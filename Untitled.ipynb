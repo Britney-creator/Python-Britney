{
 "cells": [
  {
   "cell_type": "code",
   "execution_count": 11,
   "id": "3bb82de8",
   "metadata": {},
   "outputs": [
    {
     "name": "stdout",
     "output_type": "stream",
     "text": [
      "Initial Concentration (Tank 1): 8.29510671654791e-05 mol/m³\n",
      "Initial Concentration (Tank 2): 0.0003318042686619164 mol/m³\n",
      "Final Concentration (Tank 1): 0.0003318042686619164 mol/m³\n",
      "Final Concentration (Tank 2): 8.29510671654791e-05 mol/m³\n",
      "Concentration Difference: -0.0002488532014964373 mol/m³\n",
      "Diffusion Flux: 7.963302447885993e-10 mol/(m²·s)\n"
     ]
    }
   ],
   "source": [
    "# Given data\n",
    "diffusion_coefficient = 0.16e-4  # m²/s\n",
    "sectional_area = 0.1  # m²\n",
    "duct_length = 0.5  # m\n",
    "\n",
    "# Initial and final mole fractions of CO2 in the tanks\n",
    "x1_initial_CO2 = 0.2\n",
    "x2_initial_CO2 = 0.8\n",
    "x1_final_CO2 = 0.8\n",
    "x2_final_CO2 = 0.2\n",
    "\n",
    "# Pressure and temperature in the tanks\n",
    "pressure = 1.0  # bar to Pa\n",
    "temperature = 290.0  # K\n",
    "\n",
    "# Calculate concentrations in the tanks\n",
    "C1_initial = x1_initial_CO2 * pressure / (8.314 * temperature)\n",
    "C2_initial = x2_initial_CO2 * pressure / (8.314 * temperature)\n",
    "C1_final = x1_final_CO2 * pressure / (8.314 * temperature)\n",
    "C2_final = x2_final_CO2 * pressure / (8.314 * temperature)\n",
    "\n",
    "# Calculate the concentration difference and diffusion flux\n",
    "delta_C = C1_initial - C2_initial\n",
    "diffusion_flux = -diffusion_coefficient * sectional_area * delta_C / duct_length\n",
    "\n",
    "# Output the results\n",
    "print(f\"Initial Concentration (Tank 1): {C1_initial} mol/m³\")\n",
    "print(f\"Initial Concentration (Tank 2): {C2_initial} mol/m³\")\n",
    "print(f\"Final Concentration (Tank 1): {C1_final} mol/m³\")\n",
    "print(f\"Final Concentration (Tank 2): {C2_final} mol/m³\")\n",
    "print(f\"Concentration Difference: {delta_C} mol/m³\")\n",
    "print(f\"Diffusion Flux: {diffusion_flux} mol/(m²·s)\")\n"
   ]
  }
 ],
 "metadata": {
  "kernelspec": {
   "display_name": "Python 3 (ipykernel)",
   "language": "python",
   "name": "python3"
  },
  "language_info": {
   "codemirror_mode": {
    "name": "ipython",
    "version": 3
   },
   "file_extension": ".py",
   "mimetype": "text/x-python",
   "name": "python",
   "nbconvert_exporter": "python",
   "pygments_lexer": "ipython3",
   "version": "3.11.5"
  }
 },
 "nbformat": 4,
 "nbformat_minor": 5
}
