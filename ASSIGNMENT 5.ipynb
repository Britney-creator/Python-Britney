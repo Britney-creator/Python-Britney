{
 "cells": [
  {
   "cell_type": "code",
   "execution_count": 12,
   "id": "a820cac1",
   "metadata": {},
   "outputs": [
    {
     "name": "stdout",
     "output_type": "stream",
     "text": [
      "Processing complete. Filtered data saved to top_students.csv\n"
     ]
    }
   ],
   "source": [
    "import csv\n",
    "\n",
    "def process_csv(input_file, output_file):\n",
    "    # Read the CSV file\n",
    "    with open(input_file, 'r') as file:\n",
    "        reader = csv.DictReader(file)\n",
    "        # Extract data and filter based on the grade\n",
    "        filtered_data = [row for row in reader if row['Grade'] <= 'B']\n",
    "\n",
    "    # Add a new 'Status' column with the value 'Passed'\n",
    "    for row in filtered_data:\n",
    "        row['Status'] = 'Passed'\n",
    "\n",
    "    # Write the filtered data to a new CSV file\n",
    "    with open(output_file, 'w', newline='') as file:\n",
    "        fieldnames = reader.fieldnames + ['Status']\n",
    "        writer = csv.DictWriter(file, fieldnames=fieldnames)\n",
    "        writer.writeheader()\n",
    "        writer.writerows(filtered_data)\n",
    "\n",
    "if __name__ == \"__main__\":\n",
    "    # Specify the input and output file names\n",
    "    input_filename = 'students.csv'\n",
    "    output_filename = 'top_students.csv'\n",
    "\n",
    "    # Process the CSV file\n",
    "    process_csv(input_filename, output_filename)\n",
    "\n",
    "    print(f\"Processing complete. Filtered data saved to {output_filename}\")\n"
   ]
  },
  {
   "cell_type": "code",
   "execution_count": 1,
   "id": "e1e6934f",
   "metadata": {},
   "outputs": [
    {
     "name": "stdout",
     "output_type": "stream",
     "text": [
      "Enter the name of a state in Malaysia: Sabah\n",
      "The population of Sabah is: 3833000\n"
     ]
    }
   ],
   "source": [
    "import requests\n",
    "\n",
    "api_url = \"https://jian.sh/malaysia-api/state/v1/all.json\"\n",
    "response = requests.get(api_url)\n",
    "\n",
    "if response.status_code == 200:\n",
    "    malaysia_state_data = response.json()\n",
    "else:\n",
    "    print(\"Error fetching data from the API. Exiting.\")\n",
    "    exit()\n",
    "\n",
    "def get_population_by_state(state_name, state_data):\n",
    "    for state in state_data:\n",
    "        if state['state'].lower() == state_name.lower():\n",
    "            return state['population']\n",
    "    return None\n",
    "\n",
    "def main():\n",
    "    state_name = input(\"Enter the name of a state in Malaysia: \")\n",
    "    \n",
    "    population = get_population_by_state(state_name, malaysia_state_data)\n",
    "\n",
    "    if population is not None:\n",
    "        print(f\"The population of {state_name} is: {population}\")\n",
    "    else:\n",
    "        print(f\"Population data for {state_name} not found.\")\n",
    "\n",
    "if __name__ == \"__main__\":\n",
    "    main()"
   ]
  },
  {
   "cell_type": "code",
   "execution_count": 2,
   "id": "95bc3e90",
   "metadata": {},
   "outputs": [
    {
     "name": "stdout",
     "output_type": "stream",
     "text": [
      "Enter the name of a state in Malaysia: Sarawak\n",
      "The population of Sarawak is: 2822200\n"
     ]
    }
   ],
   "source": [
    "import requests\n",
    "\n",
    "api_url = \"https://jian.sh/malaysia-api/state/v1/all.json\"\n",
    "response = requests.get(api_url)\n",
    "\n",
    "if response.status_code == 200:\n",
    "    malaysia_state_data = response.json()\n",
    "else:\n",
    "    print(\"Error fetching data from the API. Exiting.\")\n",
    "    exit()\n",
    "\n",
    "def get_population_by_state(state_name, state_data):\n",
    "    for state in state_data:\n",
    "        if state['state'].lower() == state_name.lower():\n",
    "            return state['population']\n",
    "    return None\n",
    "\n",
    "def main():\n",
    "    state_name = input(\"Enter the name of a state in Malaysia: \")\n",
    "    \n",
    "    population = get_population_by_state(state_name, malaysia_state_data)\n",
    "\n",
    "    if population is not None:\n",
    "        print(f\"The population of {state_name} is: {population}\")\n",
    "    else:\n",
    "        print(f\"Population data for {state_name} not found.\")\n",
    "\n",
    "if __name__ == \"__main__\":\n",
    "    main()"
   ]
  },
  {
   "cell_type": "code",
   "execution_count": null,
   "id": "5f19178e",
   "metadata": {},
   "outputs": [],
   "source": []
  }
 ],
 "metadata": {
  "kernelspec": {
   "display_name": "Python 3 (ipykernel)",
   "language": "python",
   "name": "python3"
  },
  "language_info": {
   "codemirror_mode": {
    "name": "ipython",
    "version": 3
   },
   "file_extension": ".py",
   "mimetype": "text/x-python",
   "name": "python",
   "nbconvert_exporter": "python",
   "pygments_lexer": "ipython3",
   "version": "3.11.5"
  }
 },
 "nbformat": 4,
 "nbformat_minor": 5
}
