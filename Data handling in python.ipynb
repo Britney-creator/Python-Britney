{
 "cells": [
  {
   "cell_type": "code",
   "execution_count": 41,
   "id": "e354f141",
   "metadata": {
    "scrolled": true
   },
   "outputs": [
    {
     "name": "stdout",
     "output_type": "stream",
     "text": [
      "Beautiful\n"
     ]
    }
   ],
   "source": [
    "with open('pretty.txt', 'r') as file:\n",
    "    content = file.read()\n",
    "    print(content)"
   ]
  },
  {
   "cell_type": "code",
   "execution_count": 25,
   "id": "316b3500",
   "metadata": {
    "scrolled": true
   },
   "outputs": [
    {
     "name": "stdout",
     "output_type": "stream",
     "text": [
      "['Name', 'Age', 'Grade']\n",
      "['Alice', '21', 'A']\n",
      "['Bob', '22', 'F']\n",
      "['Charlie', '18', 'B']\n",
      "['David', '21', 'A']\n",
      "['Eve', '20', 'A']\n",
      "['Fiona', '18', 'C']\n",
      "['George', '19', 'A']\n",
      "['Hannah', '20', 'C']\n",
      "['Isla', '22', 'A']\n",
      "['Jack', '21', 'B']\n",
      "['Alice', '20', 'C']\n",
      "['Bob', '20', 'C']\n",
      "['Charlie', '18', 'C']\n",
      "['David', '20', 'A']\n",
      "['Eve', '21', 'B']\n",
      "['Fiona', '19', 'C']\n",
      "['George', '18', 'F']\n",
      "['Hannah', '19', 'B']\n",
      "['Isla', '19', 'B']\n",
      "['Jack', '18', 'F']\n",
      "['Alice', '18', 'F']\n",
      "['Bob', '18', 'F']\n",
      "['Charlie', '18', 'C']\n",
      "['David', '18', 'F']\n",
      "['Eve', '20', 'B']\n",
      "['Fiona', '19', 'B']\n",
      "['George', '21', 'D']\n",
      "['Hannah', '19', 'B']\n",
      "['Isla', '19', 'B']\n",
      "['Jack', '18', 'F']\n",
      "['Alice', '19', 'B']\n",
      "['Bob', '20', 'B']\n",
      "['Charlie', '22', 'D']\n",
      "['David', '20', 'C']\n",
      "['Eve', '19', 'A']\n",
      "['Fiona', '20', 'F']\n",
      "['George', '21', 'F']\n",
      "['Hannah', '22', 'F']\n",
      "['Isla', '21', 'F']\n",
      "['Jack', '19', 'F']\n",
      "['Alice', '20', 'C']\n",
      "['Bob', '22', 'F']\n",
      "['Charlie', '21', 'C']\n",
      "['David', '21', 'C']\n",
      "['Eve', '22', 'A']\n",
      "['Fiona', '20', 'B']\n",
      "['George', '20', 'D']\n",
      "['Hannah', '21', 'F']\n",
      "['Isla', '22', 'B']\n",
      "['Jack', '21', 'B']\n",
      "['Alice', '22', 'B']\n",
      "['Bob', '20', 'C']\n",
      "['Charlie', '21', 'A']\n",
      "['David', '22', 'F']\n",
      "['Eve', '19', 'A']\n",
      "['Fiona', '19', 'F']\n",
      "['George', '21', 'D']\n",
      "['Hannah', '20', 'B']\n",
      "['Isla', '18', 'A']\n",
      "['Jack', '18', 'D']\n",
      "['Alice', '18', 'C']\n",
      "['Bob', '20', 'C']\n",
      "['Charlie', '19', 'C']\n",
      "['David', '20', 'F']\n",
      "['Eve', '18', 'D']\n",
      "['Fiona', '22', 'A']\n",
      "['George', '18', 'D']\n",
      "['Hannah', '18', 'C']\n",
      "['Isla', '20', 'B']\n",
      "['Jack', '20', 'F']\n",
      "['Alice', '22', 'A']\n",
      "['Bob', '20', 'F']\n",
      "['Charlie', '22', 'C']\n",
      "['David', '18', 'A']\n",
      "['Eve', '20', 'F']\n",
      "['Fiona', '19', 'A']\n",
      "['George', '18', 'F']\n",
      "['Hannah', '19', 'B']\n",
      "['Isla', '18', 'D']\n",
      "['Jack', '22', 'B']\n",
      "['Alice', '19', 'A']\n",
      "['Bob', '19', 'D']\n",
      "['Charlie', '19', 'A']\n",
      "['David', '20', 'F']\n",
      "['Eve', '19', 'B']\n",
      "['Fiona', '20', 'C']\n",
      "['George', '22', 'A']\n",
      "['Hannah', '19', 'D']\n",
      "['Isla', '19', 'C']\n",
      "['Jack', '21', 'C']\n",
      "['Alice', '18', 'A']\n",
      "['Bob', '19', 'B']\n",
      "['Charlie', '22', 'F']\n",
      "['David', '22', 'A']\n",
      "['Eve', '21', 'C']\n",
      "['Fiona', '19', 'F']\n",
      "['George', '18', 'C']\n",
      "['Hannah', '22', 'F']\n",
      "['Isla', '18', 'F']\n",
      "['Jack', '20', 'D']\n"
     ]
    }
   ],
   "source": [
    "import csv\n",
    "with open('students.csv', 'r') as file:\n",
    "    csv_reader = csv.reader(file)\n",
    "    for row in csv_reader:\n",
    "        print(row)\n",
    "\n"
   ]
  },
  {
   "cell_type": "code",
   "execution_count": 63,
   "id": "55a28686",
   "metadata": {},
   "outputs": [
    {
     "ename": "SyntaxError",
     "evalue": "unterminated string literal (detected at line 2) (687066700.py, line 2)",
     "output_type": "error",
     "traceback": [
      "\u001b[1;36m  Cell \u001b[1;32mIn[63], line 2\u001b[1;36m\u001b[0m\n\u001b[1;33m    file.write('Hello, Python!’)\u001b[0m\n\u001b[1;37m               ^\u001b[0m\n\u001b[1;31mSyntaxError\u001b[0m\u001b[1;31m:\u001b[0m unterminated string literal (detected at line 2)\n"
     ]
    }
   ],
   "source": [
    "with open('facts.txt', 'w') as file:\n",
    "    file.write('Hello, Python!’)\n"
   ]
  },
  {
   "cell_type": "code",
   "execution_count": 67,
   "id": "3e9cfeb5",
   "metadata": {},
   "outputs": [
    {
     "ename": "FileNotFoundError",
     "evalue": "[Errno 2] No such file or directory: 'students.json'",
     "output_type": "error",
     "traceback": [
      "\u001b[1;31m---------------------------------------------------------------------------\u001b[0m",
      "\u001b[1;31mFileNotFoundError\u001b[0m                         Traceback (most recent call last)",
      "Cell \u001b[1;32mIn[67], line 2\u001b[0m\n\u001b[0;32m      1\u001b[0m \u001b[38;5;28;01mimport\u001b[39;00m \u001b[38;5;21;01mjson\u001b[39;00m\n\u001b[1;32m----> 2\u001b[0m \u001b[38;5;28;01mwith\u001b[39;00m \u001b[38;5;28mopen\u001b[39m(\u001b[38;5;124m'\u001b[39m\u001b[38;5;124mstudents.json\u001b[39m\u001b[38;5;124m'\u001b[39m, \u001b[38;5;124m'\u001b[39m\u001b[38;5;124mr\u001b[39m\u001b[38;5;124m'\u001b[39m) \u001b[38;5;28;01mas\u001b[39;00m file:\n\u001b[0;32m      3\u001b[0m     students \u001b[38;5;241m=\u001b[39m json\u001b[38;5;241m.\u001b[39mload(file)\n\u001b[0;32m      4\u001b[0m     \u001b[38;5;28mprint\u001b[39m(student)\n",
      "File \u001b[1;32m~\\anaconda3\\Lib\\site-packages\\IPython\\core\\interactiveshell.py:286\u001b[0m, in \u001b[0;36m_modified_open\u001b[1;34m(file, *args, **kwargs)\u001b[0m\n\u001b[0;32m    279\u001b[0m \u001b[38;5;28;01mif\u001b[39;00m file \u001b[38;5;129;01min\u001b[39;00m {\u001b[38;5;241m0\u001b[39m, \u001b[38;5;241m1\u001b[39m, \u001b[38;5;241m2\u001b[39m}:\n\u001b[0;32m    280\u001b[0m     \u001b[38;5;28;01mraise\u001b[39;00m \u001b[38;5;167;01mValueError\u001b[39;00m(\n\u001b[0;32m    281\u001b[0m         \u001b[38;5;124mf\u001b[39m\u001b[38;5;124m\"\u001b[39m\u001b[38;5;124mIPython won\u001b[39m\u001b[38;5;124m'\u001b[39m\u001b[38;5;124mt let you open fd=\u001b[39m\u001b[38;5;132;01m{\u001b[39;00mfile\u001b[38;5;132;01m}\u001b[39;00m\u001b[38;5;124m by default \u001b[39m\u001b[38;5;124m\"\u001b[39m\n\u001b[0;32m    282\u001b[0m         \u001b[38;5;124m\"\u001b[39m\u001b[38;5;124mas it is likely to crash IPython. If you know what you are doing, \u001b[39m\u001b[38;5;124m\"\u001b[39m\n\u001b[0;32m    283\u001b[0m         \u001b[38;5;124m\"\u001b[39m\u001b[38;5;124myou can use builtins\u001b[39m\u001b[38;5;124m'\u001b[39m\u001b[38;5;124m open.\u001b[39m\u001b[38;5;124m\"\u001b[39m\n\u001b[0;32m    284\u001b[0m     )\n\u001b[1;32m--> 286\u001b[0m \u001b[38;5;28;01mreturn\u001b[39;00m io_open(file, \u001b[38;5;241m*\u001b[39margs, \u001b[38;5;241m*\u001b[39m\u001b[38;5;241m*\u001b[39mkwargs)\n",
      "\u001b[1;31mFileNotFoundError\u001b[0m: [Errno 2] No such file or directory: 'students.json'"
     ]
    }
   ],
   "source": [
    "import json\n",
    "with open('students.json', 'r') as file:\n",
    "    students = json.load(file)\n",
    "    print(student)"
   ]
  },
  {
   "cell_type": "code",
   "execution_count": 68,
   "id": "d2d452f0",
   "metadata": {
    "scrolled": true
   },
   "outputs": [
    {
     "name": "stdout",
     "output_type": "stream",
     "text": [
      "[{'administrative_division': 'State of Malaysia', 'state': 'Johor', 'capital': 'Johor Bahru', 'royal_capital': 'Muar', 'population': 3794000, 'total_area': 19166, 'licence_plate_prefix': 'J', 'phone_area_code': '07, 06 (Muar & Tangkak)', 'abbreviation': 'JHR', 'ISO': 'MY-01', 'FIPS': 'MY01', 'HDI': 0.818, 'region': 'Peninsular Malaysia', 'head_of_state': 'Sultan', 'head_of_goverment': 'Menteri Besar'}, {'administrative_division': 'State of Malaysia', 'state': 'Kedah', 'capital': 'Alor Setar', 'royal_capital': 'Anak Bukit', 'population': 2194100, 'total_area': 9492, 'licence_plate_prefix': 'K', 'phone_area_code': '04', 'abbreviation': 'KDH', 'ISO': 'MY-02', 'FIPS': 'MY03', 'HDI': 0.802, 'region': 'Peninsular Malaysia', 'head_of_state': 'Sultan', 'head_of_goverment': 'Menteri Besar'}, {'administrative_division': 'State of Malaysia', 'state': 'Kelantan', 'capital': 'Kota Bharu', 'royal_capital': 'Kubang Kerian', 'population': 1928800, 'total_area': 15040, 'licence_plate_prefix': 'D', 'phone_area_code': '09', 'abbreviation': 'KTN', 'ISO': 'MY-03', 'FIPS': 'MY03', 'HDI': 0.772, 'region': 'Peninsular Malaysia', 'head_of_state': 'Sultan', 'head_of_goverment': 'Menteri Besar'}, {'administrative_division': 'State of Malaysia', 'state': 'Malacca', 'capital': 'Malacca City', 'royal_capital': '-', 'population': 937500, 'total_area': 1712, 'licence_plate_prefix': 'M', 'phone_area_code': '06', 'abbreviation': 'MLK', 'ISO': 'MY-04', 'FIPS': 'MY04', 'HDI': 0.828, 'region': 'Peninsular Malaysia', 'head_of_state': 'Yang di-Pertua Negeri (Governor)', 'head_of_goverment': 'Chief Minister'}, {'administrative_division': 'State of Malaysia', 'state': 'Negeri Sembilan', 'capital': 'Seremban', 'royal_capital': 'Seri Menanti', 'population': 1129100, 'total_area': 6658, 'licence_plate_prefix': 'N', 'phone_area_code': '06', 'abbreviation': 'NSN', 'ISO': 'MY-05', 'FIPS': 'MY05', 'HDI': 0.822, 'region': 'Peninsular Malaysia', 'head_of_state': 'Yang di-Pertua Negeri (Grand Ruler)', 'head_of_goverment': 'Menteri Besar'}, {'administrative_division': 'State of Malaysia', 'state': 'Pahang', 'capital': 'Kuantan', 'royal_capital': 'Pekan', 'population': 1684600, 'total_area': 35965, 'licence_plate_prefix': 'C', 'phone_area_code': '09, 03 (Genting Highlands), 05 (Cameron)', 'abbreviation': 'PHG', 'ISO': 'MY-06', 'FIPS': 'MY06', 'HDI': 0.797, 'region': 'Peninsular Malaysia', 'head_of_state': 'Sultan', 'head_of_goverment': 'Menteri Besar'}, {'administrative_division': 'State of Malaysia', 'state': 'Penang', 'capital': 'George Town', 'royal_capital': '-', 'population': 1774400, 'total_area': 1049, 'licence_plate_prefix': 'P', 'phone_area_code': '04', 'abbreviation': 'PNG', 'ISO': 'MY-07', 'FIPS': 'MY09', 'HDI': 0.838, 'region': 'Peninsular Malaysia', 'head_of_state': 'Yang di-Pertua Negeri (Governor)', 'head_of_goverment': 'Chief Minister'}, {'administrative_division': 'State of Malaysia', 'state': 'Perak', 'capital': 'Ipoh', 'royal_capital': 'Kuala Kangsar', 'population': 2508900, 'total_area': 21146, 'licence_plate_prefix': 'A', 'phone_area_code': '05', 'abbreviation': 'PRK', 'ISO': 'MY-08', 'FIPS': 'MY07', 'HDI': 0.809, 'region': 'Peninsular Malaysia', 'head_of_state': 'Sultan', 'head_of_goverment': 'Menteri Besar'}, {'administrative_division': 'State of Malaysia', 'state': 'Perlis', 'capital': 'Kangar', 'royal_capital': 'Arau', 'population': 255400, 'total_area': 819, 'licence_plate_prefix': 'R', 'phone_area_code': '04', 'abbreviation': 'PLS', 'ISO': 'MY-09', 'FIPS': 'MY08', 'HDI': 0.799, 'region': 'Peninsular Malaysia', 'head_of_state': 'Raja', 'head_of_goverment': 'Menteri Besar'}, {'administrative_division': 'State of Malaysia', 'state': 'Sabah', 'capital': 'Kota Kinabalu', 'royal_capital': '-', 'population': 3833000, 'total_area': 73621, 'licence_plate_prefix': 'S', 'phone_area_code': '087–089', 'abbreviation': 'SBH', 'ISO': 'MY-12', 'FIPS': 'MY16', 'HDI': 0.704, 'region': 'East Malaysia', 'head_of_state': 'Yang di-Pertua Negeri (Governor)', 'head_of_goverment': 'Chief Minister'}, {'administrative_division': 'State of Malaysia', 'state': 'Sarawak', 'capital': 'Kuching', 'royal_capital': '-', 'population': 2822200, 'total_area': 124450, 'licence_plate_prefix': 'Q', 'phone_area_code': '081–086', 'abbreviation': 'SWK', 'ISO': 'MY-13', 'FIPS': 'MY11', 'HDI': 0.739, 'region': 'East Malaysia', 'head_of_state': 'Yang di-Pertua Negeri (Governor)', 'head_of_goverment': 'Chief Minister'}, {'administrative_division': 'State of Malaysia', 'state': 'Selangor', 'capital': 'Shah Alam', 'royal_capital': 'Klang', 'population': 6555400, 'total_area': 7951, 'licence_plate_prefix': 'B', 'phone_area_code': '03', 'abbreviation': 'SGR', 'ISO': 'MY-10', 'FIPS': 'MY12', 'HDI': 0.855, 'region': 'Peninsular Malaysia', 'head_of_state': 'Sultan', 'head_of_goverment': 'Menteri Besar'}, {'administrative_division': 'State of Malaysia', 'state': 'Terengganu', 'capital': 'Kuala Terengganu', 'royal_capital': 'Kuala Terengganu', 'population': 1275100, 'total_area': 12958, 'licence_plate_prefix': 'T', 'phone_area_code': '09', 'abbreviation': 'TRG', 'ISO': 'MY-11', 'FIPS': 'MY13', 'HDI': 0.793, 'region': 'Peninsular Malaysia', 'head_of_state': 'Sultan', 'head_of_goverment': 'Menteri Besar'}, {'administrative_division': 'Federal Territory of Malaysia', 'state': 'Kuala Lumpur', 'capital': 'Kuala Lumpur', 'royal_capital': '', 'population': 1746600, 'total_area': 243, 'licence_plate_prefix': 'W / V', 'phone_area_code': '03', 'abbreviation': 'KUL', 'ISO': 'MY-14', 'FIPS': '', 'HDI': 0.86, 'region': 'Peninsular Malaysia', 'head_of_state': 'Yang di-Pertuan Agong', 'head_of_goverment': 'Mayor'}, {'administrative_division': 'Federal Territory of Malaysia', 'state': 'Labuan', 'capital': 'Victoria', 'royal_capital': '', 'population': 100100, 'total_area': 92, 'licence_plate_prefix': 'L', 'phone_area_code': '087', 'abbreviation': 'LBN', 'ISO': 'MY-15', 'FIPS': 'MY15', 'HDI': 0.778, 'region': 'East Malaysia', 'head_of_state': 'Yang di-Pertuan Agong', 'head_of_goverment': 'President of Labuan Corporation'}, {'administrative_division': 'Federal Territory of Malaysia', 'state': 'Putrajaya', 'capital': 'Putrajaya', 'royal_capital': '', 'population': 116100, 'total_area': 49, 'licence_plate_prefix': 'F', 'phone_area_code': '03', 'abbreviation': 'PJY', 'ISO': 'MY-16', 'FIPS': '', 'HDI': 0.877, 'region': 'Peninsular Malaysia', 'head_of_state': 'Yang di-Pertuan Agong', 'head_of_goverment': 'President of Putrajaya Corporation'}]\n"
     ]
    }
   ],
   "source": [
    "import requests\n",
    "api_url = \"https://jian.sh/malaysia-api/state/v1/all.json\"\n",
    "response = requests.get(api_url)\n",
    "malaysia_state_data = response.json()\n",
    "print (malaysia_state_data)\n"
   ]
  },
  {
   "cell_type": "code",
   "execution_count": 72,
   "id": "5f7c292a",
   "metadata": {},
   "outputs": [
    {
     "name": "stdout",
     "output_type": "stream",
     "text": [
      "State: Johor, Capital: Johor Bahru, Population: 3794000\n",
      "State: Kedah, Capital: Alor Setar, Population: 2194100\n",
      "State: Kelantan, Capital: Kota Bharu, Population: 1928800\n",
      "State: Malacca, Capital: Malacca City, Population: 937500\n",
      "State: Negeri Sembilan, Capital: Seremban, Population: 1129100\n",
      "State: Pahang, Capital: Kuantan, Population: 1684600\n",
      "State: Penang, Capital: George Town, Population: 1774400\n",
      "State: Perak, Capital: Ipoh, Population: 2508900\n",
      "State: Perlis, Capital: Kangar, Population: 255400\n",
      "State: Sabah, Capital: Kota Kinabalu, Population: 3833000\n",
      "State: Sarawak, Capital: Kuching, Population: 2822200\n",
      "State: Selangor, Capital: Shah Alam, Population: 6555400\n",
      "State: Terengganu, Capital: Kuala Terengganu, Population: 1275100\n",
      "State: Kuala Lumpur, Capital: Kuala Lumpur, Population: 1746600\n",
      "State: Labuan, Capital: Victoria, Population: 100100\n",
      "State: Putrajaya, Capital: Putrajaya, Population: 116100\n"
     ]
    }
   ],
   "source": [
    "import requests\n",
    "api_url = \"https://jian.sh/malaysia-api/state/v1/all.json\"\n",
    "response = requests.get(api_url)\n",
    "malaysia_state_data = response.json()\n",
    "\n",
    "for state in malaysia_state_data:\n",
    "    print(f\"State: {state['state']}, Capital: {state['capital']}, Population: {state['population']}\")\n"
   ]
  },
  {
   "cell_type": "code",
   "execution_count": null,
   "id": "0c12a9ba",
   "metadata": {},
   "outputs": [],
   "source": []
  },
  {
   "cell_type": "code",
   "execution_count": null,
   "id": "e988486b",
   "metadata": {},
   "outputs": [],
   "source": []
  }
 ],
 "metadata": {
  "kernelspec": {
   "display_name": "Python 3 (ipykernel)",
   "language": "python",
   "name": "python3"
  },
  "language_info": {
   "codemirror_mode": {
    "name": "ipython",
    "version": 3
   },
   "file_extension": ".py",
   "mimetype": "text/x-python",
   "name": "python",
   "nbconvert_exporter": "python",
   "pygments_lexer": "ipython3",
   "version": "3.11.5"
  }
 },
 "nbformat": 4,
 "nbformat_minor": 5
}
