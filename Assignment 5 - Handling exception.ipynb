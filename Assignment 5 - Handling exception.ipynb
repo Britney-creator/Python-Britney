{
 "cells": [
  {
   "cell_type": "code",
   "execution_count": null,
   "id": "36ee32c4",
   "metadata": {},
   "outputs": [],
   "source": [
    "import csv\n",
    "\n",
    "def process_csv(input_file, output_file):\n",
    "    # Read the CSV file\n",
    "    with open(input_file, 'r') as file:\n",
    "        reader = csv.DictReader(file)\n",
    "        # Extract data and filter based on the grade\n",
    "        filtered_data = [row for row in reader if row['Grade'] <= 'B']\n",
    "\n",
    "    # Add a new 'Status' column with the value 'Passed'\n",
    "    for row in filtered_data:\n",
    "        row['Status'] = 'Passed'\n",
    "\n",
    "    # Write the filtered data to a new CSV file\n",
    "    with open(output_file, 'w', newline='') as file:\n",
    "        fieldnames = reader.fieldnames + ['Status']\n",
    "        writer = csv.DictWriter(file, fieldnames=fieldnames)\n",
    "        writer.writeheader()\n",
    "        writer.writerows(filtered_data)\n",
    "\n",
    "if __name__ == \"__main__\":\n",
    "    # Specify the input and output file names\n",
    "    input_filename = 'students.csv'\n",
    "    output_filename = 'top_students.csv'\n",
    "\n",
    "    # Process the CSV file\n",
    "    process_csv(input_filename, output_filename)\n",
    "\n",
    "    print(f\"Processing complete. Filtered data saved to {output_filename}\")\n"
   ]
  },
  {
   "cell_type": "code",
   "execution_count": null,
   "id": "961290fe",
   "metadata": {},
   "outputs": [],
   "source": []
  }
 ],
 "metadata": {
  "kernelspec": {
   "display_name": "Python 3 (ipykernel)",
   "language": "python",
   "name": "python3"
  },
  "language_info": {
   "codemirror_mode": {
    "name": "ipython",
    "version": 3
   },
   "file_extension": ".py",
   "mimetype": "text/x-python",
   "name": "python",
   "nbconvert_exporter": "python",
   "pygments_lexer": "ipython3",
   "version": "3.11.5"
  }
 },
 "nbformat": 4,
 "nbformat_minor": 5
}
