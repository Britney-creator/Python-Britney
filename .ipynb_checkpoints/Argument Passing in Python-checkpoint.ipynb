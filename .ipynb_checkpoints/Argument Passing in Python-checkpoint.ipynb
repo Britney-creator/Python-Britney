{
 "cells": [
  {
   "cell_type": "markdown",
   "id": "27cc436c",
   "metadata": {},
   "source": [
    "# Positional Arguments"
   ]
  },
  {
   "cell_type": "code",
   "execution_count": 2,
   "id": "57e32055",
   "metadata": {},
   "outputs": [
    {
     "name": "stdout",
     "output_type": "stream",
     "text": [
      "Alice is enrolled in Mathematics class. \n"
     ]
    }
   ],
   "source": [
    "def student_information (class_name, student_name):\n",
    "    # Display information about a student and their class.\n",
    "    print (student_name + \" is enrolled in \" + class_name + \" class. \")\n",
    "#Positional arguments:\n",
    "student_information('Mathematics', 'Alice')"
   ]
  },
  {
   "cell_type": "markdown",
   "id": "72ee217a",
   "metadata": {},
   "source": [
    "# Keyword Arguments"
   ]
  },
  {
   "cell_type": "code",
   "execution_count": 3,
   "id": "e1f8eaac",
   "metadata": {},
   "outputs": [],
   "source": [
    "def student_information(class_name, student_name):\n",
    "    #Display information about the student and their class.\n",
    "    print(student_name + \" is enrolled in \" + class_name + \" class. \")"
   ]
  },
  {
   "cell_type": "markdown",
   "id": "1fab795a",
   "metadata": {},
   "source": [
    "# function calling"
   ]
  },
  {
   "cell_type": "code",
   "execution_count": 4,
   "id": "6072c4ab",
   "metadata": {},
   "outputs": [
    {
     "name": "stdout",
     "output_type": "stream",
     "text": [
      "Ahmed is enrolled in Python class. \n"
     ]
    }
   ],
   "source": [
    "student_information(student_name= \"Ahmed\", class_name=\"Python\")"
   ]
  },
  {
   "cell_type": "code",
   "execution_count": null,
   "id": "b80e0626",
   "metadata": {},
   "outputs": [],
   "source": []
  }
 ],
 "metadata": {
  "kernelspec": {
   "display_name": "Python 3 (ipykernel)",
   "language": "python",
   "name": "python3"
  },
  "language_info": {
   "codemirror_mode": {
    "name": "ipython",
    "version": 3
   },
   "file_extension": ".py",
   "mimetype": "text/x-python",
   "name": "python",
   "nbconvert_exporter": "python",
   "pygments_lexer": "ipython3",
   "version": "3.11.5"
  }
 },
 "nbformat": 4,
 "nbformat_minor": 5
}
