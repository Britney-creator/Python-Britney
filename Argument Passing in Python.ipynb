{
 "cells": [
  {
   "cell_type": "markdown",
   "id": "27cc436c",
   "metadata": {},
   "source": [
    "# Positional Arguments"
   ]
  },
  {
   "cell_type": "code",
   "execution_count": 2,
   "id": "57e32055",
   "metadata": {},
   "outputs": [
    {
     "name": "stdout",
     "output_type": "stream",
     "text": [
      "Alice is enrolled in Mathematics class. \n"
     ]
    }
   ],
   "source": [
    "def student_information (class_name, student_name):\n",
    "    # Display information about a student and their class.\n",
    "    print (student_name + \" is enrolled in \" + class_name + \" class. \")\n",
    "#Positional arguments:\n",
    "student_information('Mathematics', 'Alice')"
   ]
  },
  {
   "cell_type": "markdown",
   "id": "72ee217a",
   "metadata": {},
   "source": [
    "# Keyword Arguments"
   ]
  },
  {
   "cell_type": "code",
   "execution_count": 3,
   "id": "e1f8eaac",
   "metadata": {},
   "outputs": [],
   "source": [
    "def student_information(class_name, student_name):\n",
    "    #Display information about the student and their class.\n",
    "    print(student_name + \" is enrolled in \" + class_name + \" class. \")"
   ]
  },
  {
   "cell_type": "markdown",
   "id": "1fab795a",
   "metadata": {},
   "source": [
    "# function calling"
   ]
  },
  {
   "cell_type": "code",
   "execution_count": 4,
   "id": "6072c4ab",
   "metadata": {},
   "outputs": [
    {
     "name": "stdout",
     "output_type": "stream",
     "text": [
      "Ahmed is enrolled in Python class. \n"
     ]
    }
   ],
   "source": [
    "student_information(student_name= \"Ahmed\", class_name=\"Python\")"
   ]
  },
  {
   "cell_type": "markdown",
   "id": "41cf846f",
   "metadata": {},
   "source": [
    "# Keyword Argument"
   ]
  },
  {
   "cell_type": "code",
   "execution_count": 14,
   "id": "091de902",
   "metadata": {},
   "outputs": [],
   "source": [
    "def student_information(class_name, student_name):\n",
    "    # Display information about a student and their class.\n",
    "    print(student_name + \"is enrolled in\" + class_name + \"class.\")"
   ]
  },
  {
   "cell_type": "markdown",
   "id": "5fe1f820",
   "metadata": {},
   "source": [
    "## function calling"
   ]
  },
  {
   "cell_type": "code",
   "execution_count": 16,
   "id": "a21436ee",
   "metadata": {
    "scrolled": true
   },
   "outputs": [
    {
     "name": "stdout",
     "output_type": "stream",
     "text": [
      " Ahmed is enrolled in Python class.\n"
     ]
    }
   ],
   "source": [
    "student_information(student_name =\" Ahmed \", class_name =\" Python \")"
   ]
  },
  {
   "cell_type": "markdown",
   "id": "bf16ef24",
   "metadata": {},
   "source": [
    "## Default Arguments"
   ]
  },
  {
   "cell_type": "code",
   "execution_count": 19,
   "id": "2926e631",
   "metadata": {},
   "outputs": [],
   "source": [
    "def enroll_student(student_name, course='Introduction to Python'):\n",
    "    #Enroll a student in a course with a default option.\n",
    "    print(\"Student Name: \" + student_name)\n",
    "    print(\"Enrolled Course: \" + course)"
   ]
  },
  {
   "cell_type": "code",
   "execution_count": 20,
   "id": "d4f8782d",
   "metadata": {},
   "outputs": [
    {
     "name": "stdout",
     "output_type": "stream",
     "text": [
      "Student Name: Ali\n",
      "Enrolled Course: Introduction to Python\n"
     ]
    }
   ],
   "source": [
    "enroll_student (\"Ali\")"
   ]
  },
  {
   "cell_type": "code",
   "execution_count": 21,
   "id": "ac7917d5",
   "metadata": {},
   "outputs": [
    {
     "name": "stdout",
     "output_type": "stream",
     "text": [
      "Student Name: Ali\n",
      "Enrolled Course: Physics\n"
     ]
    }
   ],
   "source": [
    "enroll_student(\"Ali\", \"Physics\")"
   ]
  },
  {
   "cell_type": "markdown",
   "id": "be9a283c",
   "metadata": {},
   "source": [
    "# Variable-length Arguments:*args"
   ]
  },
  {
   "cell_type": "code",
   "execution_count": 22,
   "id": "2ec9e983",
   "metadata": {},
   "outputs": [],
   "source": [
    "def enroll_in_courses(student_name, *courses):\n",
    "    # Enroll a student in multiple courses.\n",
    "    print(\"student: \" + student_name)\n",
    "    print(\"Enrolled in\")\n",
    "    for course in courses:\n",
    "        print(\"-\" + course)"
   ]
  },
  {
   "cell_type": "code",
   "execution_count": 23,
   "id": "2c1828c5",
   "metadata": {},
   "outputs": [
    {
     "name": "stdout",
     "output_type": "stream",
     "text": [
      "student: Sara\n",
      "Enrolled in\n",
      "-English\n",
      "-Programming\n",
      "-Physics\n"
     ]
    }
   ],
   "source": [
    "enroll_in_courses(\"Sara\", \"English\", \"Programming\", \"Physics\")"
   ]
  },
  {
   "cell_type": "markdown",
   "id": "1d9d44b6",
   "metadata": {},
   "source": [
    "# Variable-length Arguments: **kwargs-cont."
   ]
  },
  {
   "cell_type": "code",
   "execution_count": 27,
   "id": "4c97fd4c",
   "metadata": {},
   "outputs": [
    {
     "ename": "SyntaxError",
     "evalue": "invalid syntax (1885995750.py, line 5)",
     "output_type": "error",
     "traceback": [
      "\u001b[1;36m  Cell \u001b[1;32mIn[27], line 5\u001b[1;36m\u001b[0m\n\u001b[1;33m    print(,\"- \" + detail.replace('_','').title() + \": \" str(value))\u001b[0m\n\u001b[1;37m          ^\u001b[0m\n\u001b[1;31mSyntaxError\u001b[0m\u001b[1;31m:\u001b[0m invalid syntax\n"
     ]
    }
   ],
   "source": [
    "def enroll_student(student_name, **details):\n",
    "    #Enroll a student with additional details.\n",
    "    print(\"Enrolling\" + student_name + \"with the following details:\")\n",
    "    for detail, value in details.items():\n",
    "        print(,\"- \" + detail.replace('_','').title() + \": \" str(value))"
   ]
  },
  {
   "cell_type": "code",
   "execution_count": 29,
   "id": "dd6a1100",
   "metadata": {},
   "outputs": [
    {
     "name": "stdout",
     "output_type": "stream",
     "text": [
      "yn\n"
     ]
    }
   ],
   "source": [
    "str = \"pynative\"\n",
    "print(str[1:3])  "
   ]
  },
  {
   "cell_type": "code",
   "execution_count": 31,
   "id": "0467288c",
   "metadata": {},
   "outputs": [
    {
     "name": "stdout",
     "output_type": "stream",
     "text": [
      "maJ\n"
     ]
    }
   ],
   "source": [
    "var= \"James Bond\"\n",
    "print(var[2::-1])"
   ]
  },
  {
   "cell_type": "code",
   "execution_count": 32,
   "id": "ce600e5c",
   "metadata": {},
   "outputs": [
    {
     "name": "stdout",
     "output_type": "stream",
     "text": [
      "10, 11, 12, 13, 14, "
     ]
    }
   ],
   "source": [
    "for i in range(10, 15, 1):\n",
    "  print( i, end=', ')\n"
   ]
  },
  {
   "cell_type": "code",
   "execution_count": 33,
   "id": "9bbdf767",
   "metadata": {},
   "outputs": [
    {
     "name": "stdout",
     "output_type": "stream",
     "text": [
      "False True True True\n"
     ]
    }
   ],
   "source": [
    "print(bool(0), bool(3.14159), bool(-3), bool(1.0+1j))"
   ]
  },
  {
   "cell_type": "code",
   "execution_count": 34,
   "id": "745666de",
   "metadata": {},
   "outputs": [
    {
     "ename": "IndentationError",
     "evalue": "expected an indented block after function definition on line 2 (894297130.py, line 4)",
     "output_type": "error",
     "traceback": [
      "\u001b[1;36m  Cell \u001b[1;32mIn[34], line 4\u001b[1;36m\u001b[0m\n\u001b[1;33m    fun1()\u001b[0m\n\u001b[1;37m    ^\u001b[0m\n\u001b[1;31mIndentationError\u001b[0m\u001b[1;31m:\u001b[0m expected an indented block after function definition on line 2\n"
     ]
    }
   ],
   "source": [
    "x = 50\n",
    "def fun1():\n",
    "    # your code to assign global x = 20\n",
    "fun1()\n",
    "print(x) # it should print 20"
   ]
  },
  {
   "cell_type": "code",
   "execution_count": 35,
   "id": "3ec01ffa",
   "metadata": {},
   "outputs": [
    {
     "name": "stdout",
     "output_type": "stream",
     "text": [
      "25\n",
      "50\n"
     ]
    }
   ],
   "source": [
    "x = 50\n",
    "def fun1():\n",
    "    x = 25\n",
    "    print(x)\n",
    "    \n",
    "fun1()\n",
    "print(x)"
   ]
  },
  {
   "cell_type": "code",
   "execution_count": 36,
   "id": "1fc02f8d",
   "metadata": {},
   "outputs": [
    {
     "ename": "SyntaxError",
     "evalue": "invalid syntax (2770227985.py, line 1)",
     "output_type": "error",
     "traceback": [
      "\u001b[1;36m  Cell \u001b[1;32mIn[36], line 1\u001b[1;36m\u001b[0m\n\u001b[1;33m    What is the output of the following code\u001b[0m\n\u001b[1;37m                ^\u001b[0m\n\u001b[1;31mSyntaxError\u001b[0m\u001b[1;31m:\u001b[0m invalid syntax\n"
     ]
    }
   ],
   "source": [
    "What is the output of the following code\n",
    "\n",
    "def func1():\n",
    "    x = 50\n",
    "    return x\n",
    "func1()\n",
    "print(x)"
   ]
  },
  {
   "cell_type": "code",
   "execution_count": 38,
   "id": "3171f774",
   "metadata": {},
   "outputs": [
    {
     "name": "stdout",
     "output_type": "stream",
     "text": [
      "Result: 25.0\n"
     ]
    }
   ],
   "source": [
    "# Define a function named divide_numbers that takes two parameters: x and y.\n",
    "def divide_numbers(x, y):\n",
    "    try:\n",
    "        # Attempt to perform the division operation and store the result in the 'result' variable.\n",
    "        result = x / y\n",
    "        # Print the result of the division.\n",
    "        print(\"Result:\", result)\n",
    "    except ZeroDivisionError:\n",
    "        # Handle the exception if a division by zero is attempted.\n",
    "        print(\"The division by zero operation is not allowed.\")\n",
    "\n",
    "# Usage\n",
    "# Define the numerator and denominator values.\n",
    "numerator = 100\n",
    "denominator = 4\n",
    "# Call the divide_numbers function with the provided numerator and denominator.\n",
    "divide_numbers(numerator, denominator)"
   ]
  },
  {
   "cell_type": "code",
   "execution_count": 39,
   "id": "615a7395",
   "metadata": {},
   "outputs": [
    {
     "name": "stdout",
     "output_type": "stream",
     "text": [
      "Input an integer: 5\n",
      "Input value: 5\n"
     ]
    }
   ],
   "source": [
    "# Define a function named get_integer_input that takes a prompt as a parameter.\n",
    "def get_integer_input(prompt):\n",
    "    try:\n",
    "        # Attempt to get an integer input from the user and store it in the 'value' variable.\n",
    "        value = int(input(prompt))\n",
    "        # Return the integer value.\n",
    "        return value\n",
    "    except ValueError:\n",
    "        # Handle the exception if the user's input is not a valid integer.\n",
    "        print(\"Error: Invalid input, input a valid integer.\")\n",
    "\n",
    "# Usage\n",
    "# Call the get_integer_input function to get an integer input from the user with the provided prompt.\n",
    "n = get_integer_input(\"Input an integer: \")\n",
    "# Print the input value obtained from the function.\n",
    "print(\"Input value:\", n)"
   ]
  },
  {
   "cell_type": "code",
   "execution_count": null,
   "id": "7b8bcf77",
   "metadata": {},
   "outputs": [],
   "source": []
  }
 ],
 "metadata": {
  "kernelspec": {
   "display_name": "Python 3 (ipykernel)",
   "language": "python",
   "name": "python3"
  },
  "language_info": {
   "codemirror_mode": {
    "name": "ipython",
    "version": 3
   },
   "file_extension": ".py",
   "mimetype": "text/x-python",
   "name": "python",
   "nbconvert_exporter": "python",
   "pygments_lexer": "ipython3",
   "version": "3.11.5"
  }
 },
 "nbformat": 4,
 "nbformat_minor": 5
}
