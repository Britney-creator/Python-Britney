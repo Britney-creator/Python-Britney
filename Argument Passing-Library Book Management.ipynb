{
 "cells": [
  {
   "cell_type": "code",
   "execution_count": 1,
   "id": "50654449",
   "metadata": {},
   "outputs": [
    {
     "name": "stdout",
     "output_type": "stream",
     "text": [
      "Librarian Alice is processing the checkout.\n",
      "Books being checked out:\n",
      "- The Great Gatsby\n",
      "- To Kill a Mockingbird\n",
      "Checkout duration: 3 weeks\n",
      "Additional information:\n",
      "- late_fee: 1.5\n",
      "- special_conditions: Handle with care\n",
      "Checkout process complete.\n"
     ]
    }
   ],
   "source": [
    "def checkout_books(librarian_name, *book_titles, duration='2 weeks', **kwargs):\n",
    "    print(f\"Librarian {librarian_name} is processing the checkout.\")\n",
    "\n",
    "    if book_titles:\n",
    "        print(\"Books being checked out:\")\n",
    "        for title in book_titles:\n",
    "            print(f\"- {title}\")\n",
    "    else:\n",
    "        print(\"No books specified for checkout.\")\n",
    "\n",
    "    print(f\"Checkout duration: {duration}\")\n",
    "\n",
    "    if kwargs:\n",
    "        print(\"Additional information:\")\n",
    "        for key, value in kwargs.items():\n",
    "            print(f\"- {key}: {value}\")\n",
    "\n",
    "    print(\"Checkout process complete.\")\n",
    "\n",
    "# Example usage:\n",
    "checkout_books(\"Alice\", \"The Great Gatsby\", \"To Kill a Mockingbird\", duration='3 weeks', late_fee=1.50, special_conditions='Handle with care')\n"
   ]
  },
  {
   "cell_type": "code",
   "execution_count": null,
   "id": "fd1a87a0",
   "metadata": {},
   "outputs": [],
   "source": []
  }
 ],
 "metadata": {
  "kernelspec": {
   "display_name": "Python 3 (ipykernel)",
   "language": "python",
   "name": "python3"
  },
  "language_info": {
   "codemirror_mode": {
    "name": "ipython",
    "version": 3
   },
   "file_extension": ".py",
   "mimetype": "text/x-python",
   "name": "python",
   "nbconvert_exporter": "python",
   "pygments_lexer": "ipython3",
   "version": "3.11.5"
  }
 },
 "nbformat": 4,
 "nbformat_minor": 5
}
