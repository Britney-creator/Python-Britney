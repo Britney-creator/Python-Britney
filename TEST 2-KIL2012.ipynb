{
 "cells": [
  {
   "cell_type": "markdown",
   "id": "9f3fd4db",
   "metadata": {},
   "source": [
    "# Q1"
   ]
  },
  {
   "cell_type": "code",
   "execution_count": 1,
   "id": "6c939930",
   "metadata": {},
   "outputs": [
    {
     "data": {
      "image/png": "[encoded data removed]",
      "text/plain": [
       "<Figure size 640x480 with 1 Axes>"
      ]
     },
     "metadata": {},
     "output_type": "display_data"
    }
   ],
   "source": [
    "import numpy as np \n",
    "import scipy.integrate as sc\n",
    "import matplotlib.pyplot as plt\n",
    "\n",
    "# Value of initial condition\n",
    "y0 = 1\n",
    "\n",
    "# Differential equation \n",
    "def dydt(y, t):\n",
    "    # Define your differential equation here\n",
    "    # For example, let's use a simple one: dy/dt = -y\n",
    "    return -y\n",
    "\n",
    "# Create the x axis for the integration\n",
    "# Time to response is 2 minutes\n",
    "start = 0\n",
    "end = 2\n",
    "t = np.linspace(start, end, 100)  # You need to specify the number of points (e.g., 100)\n",
    "\n",
    "# Integration of the differential equation\n",
    "P = sc.odeint(dydt, y0, t)\n",
    "\n",
    "# Plotting the results for the initial value\n",
    "plt.figure()\n",
    "plt.plot(t, P)\n",
    "plt.xlabel('Time')\n",
    "plt.ylabel('Function')\n",
    "plt.title('Function vs Time')\n",
    "plt.show()"
   ]
  },
  {
   "cell_type": "markdown",
   "id": "3cbf6509",
   "metadata": {},
   "source": [
    "# Q2"
   ]
  },
  {
   "cell_type": "code",
   "execution_count": 2,
   "id": "ccd00fc8",
   "metadata": {},
   "outputs": [],
   "source": [
    "# Import necessary libraries\n",
    "import numpy as np\n",
    "import scipy as sc\n"
   ]
  },
  {
   "cell_type": "code",
   "execution_count": 3,
   "id": "ae653f81",
   "metadata": {},
   "outputs": [
    {
     "name": "stdout",
     "output_type": "stream",
     "text": [
      "[[2 4 6]\n",
      " [5 3 2]\n",
      " [7 8 9]]\n"
     ]
    }
   ],
   "source": [
    "\n",
    "# Define the coefficient matrix A\n",
    "A = np.array([[2, 4, 6], [5, 3, 2], [7, 8, 9]])\n",
    "print(A)"
   ]
  },
  {
   "cell_type": "code",
   "execution_count": 4,
   "id": "7096d063",
   "metadata": {},
   "outputs": [
    {
     "name": "stdout",
     "output_type": "stream",
     "text": [
      "[[18]\n",
      " [13]\n",
      " [30]]\n"
     ]
    }
   ],
   "source": [
    "# Define the right-hand side vector b\n",
    "b = np.array([[18], [13], [30]])\n",
    "print(b)"
   ]
  },
  {
   "cell_type": "code",
   "execution_count": 5,
   "id": "e5e81268",
   "metadata": {},
   "outputs": [
    {
     "name": "stdout",
     "output_type": "stream",
     "text": [
      "[[ 4.5]\n",
      " [-7.5]\n",
      " [ 6.5]]\n"
     ]
    }
   ],
   "source": [
    "# calculate the inverse of A and multiply by b to find the solution vector \n",
    "C = sc.linalg.inv(A).dot(b)\n",
    "print(C) "
   ]
  },
  {
   "cell_type": "code",
   "execution_count": 6,
   "id": "86dfe722",
   "metadata": {},
   "outputs": [
    {
     "name": "stdout",
     "output_type": "stream",
     "text": [
      "[[ 4.5]\n",
      " [-7.5]\n",
      " [ 6.5]]\n"
     ]
    }
   ],
   "source": [
    "# Alternatively, use the solve funvtion to find the solution vector directly\n",
    "D = sc.linalg.solve(A, b)\n",
    "print (D)"
   ]
  },
  {
   "cell_type": "markdown",
   "id": "3bf43092",
   "metadata": {},
   "source": [
    "# Q3"
   ]
  },
  {
   "cell_type": "code",
   "execution_count": null,
   "id": "efe336ab",
   "metadata": {},
   "outputs": [],
   "source": [
    "import requests\n",
    "import matplotlib.pyplot as plt\n",
    "\n",
    "def get_weather_data(latitude, longitude, forecast_days):\n",
    "    url = f\"https://api.open-meteo.com/v1/forecast?latitude={latitude}&longitude={longitude}&hourly=temperature_2m&timezone=Asia%2FSingapore&forecast_days={forecast_days}.json\"\n",
    "    response = requests.get(url)\n",
    "    data = response.json()\n",
    "    return data\n",
    "\n",
    "def plot_temperature_trend(data, latitude, longitude, forecast_days):\n",
    "    hourly_data = data['hourly']['temperature_2m']\n",
    "    time_points = [entry['timestamp'] for entry in hourly_data]\n",
    "    temperatures = [entry['value'] for entry in hourly_data]\n",
    "\n",
    "    plt.figure()\n",
    "    plt.plot(time_points, temperatures, label='Temperature Trend', marker='o')\n",
    "    plt.xlabel('Time')\n",
    "    plt.ylabel('Temperature (°C)')\n",
    "    plt.title(f'Temperature Trend for {forecast_days} Days\\nLocation: {latitude}, {longitude}')\n",
    "    plt.grid(True)\n",
    "    plt.legend()\n",
    "    plt.show()\n",
    "\n",
    "def main():\n",
    "    latitude = 2.375  # Replace with your preferred latitude\n",
    "    longitude = 112.5  # Replace with your preferred longitude\n",
    "\n",
    "    while True:\n",
    "        try:\n",
    "            forecast_days = int(input(\"Enter the number of forecast days (1-16): \"))\n",
    "            if 1 <= forecast_days <= 16:\n",
    "                break\n",
    "            else:\n",
    "                print(\"Please enter a number between 1 and 16.\")\n",
    "        except ValueError:\n",
    "            print(\"Invalid input. Please enter a valid number.\")\n",
    "\n",
    "    data = get_weather_data(latitude, longitude, forecast_days)\n",
    "    plot_temperature_trend(data, latitude, longitude, forecast_days)\n",
    "\n",
    "if __name__ == \"__main__\":\n",
    "    main()\n"
   ]
  },
  {
   "cell_type": "code",
   "execution_count": null,
   "id": "dca0c786",
   "metadata": {},
   "outputs": [],
   "source": []
  },
  {
   "cell_type": "code",
   "execution_count": null,
   "id": "52fadd3e",
   "metadata": {},
   "outputs": [],
   "source": []
  }
 ],
 "metadata": {
  "kernelspec": {
   "display_name": "Python 3 (ipykernel)",
   "language": "python",
   "name": "python3"
  },
  "language_info": {
   "codemirror_mode": {
    "name": "ipython",
    "version": 3
   },
   "file_extension": ".py",
   "mimetype": "text/x-python",
   "name": "python",
   "nbconvert_exporter": "python",
   "pygments_lexer": "ipython3",
   "version": "3.11.5"
  }
 },
 "nbformat": 4,
 "nbformat_minor": 5
}
